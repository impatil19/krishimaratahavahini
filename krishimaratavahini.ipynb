{
 "cells": [
  {
   "cell_type": "markdown",
   "id": "bbd161dd",
   "metadata": {},
   "source": [
    "# the code"
   ]
  },
  {
   "cell_type": "code",
   "execution_count": null,
   "id": "93cdda28",
   "metadata": {},
   "outputs": [],
   "source": [
    "from selenium import webdriver\n",
    "from selenium.webdriver.chrome.options import Options\n",
    "from selenium.webdriver.common.by import By\n",
    "from selenium.webdriver.support.ui import Select\n",
    "import time\n",
    "import pandas as pd\n",
    "from io import StringIO\n",
    "\n",
    "# Set up Chrome options for headless mode\n",
    "chrome_options = Options()\n",
    "chrome_options.add_argument(\"--headless\")  # Run Chrome in headless mode\n",
    "\n",
    "# Create a new browser session with headless Chrome\n",
    "driver = webdriver.Chrome(options=chrome_options)\n",
    "\n",
    "# Rest of your code remains the same\n",
    "driver.get(\"http://www.krishimaratavahini.kar.nic.in/reports/DateWiseReport.aspx\")\n",
    "\n",
    "# Define lists of values for each dropdown\n",
    "months = [\"JANUARY\"]\n",
    "years = [str(year) for year in range(2022, 2023)]  # Years from 2002 to 2023\n",
    "commodities = [\"GROUNDNUT\"]  # Add all the commodities you want to iterate through\n",
    "markets = [\"BALLARI\"]  # Add all the markets you want to iterate through\n",
    "\n",
    "# Initialize an empty list to store DataFrames\n",
    "data_frames = []\n",
    "\n",
    "# Iterate through the combinations\n",
    "for year in years:\n",
    "    for month in months:\n",
    "        for commodity in commodities:\n",
    "            for market in markets:\n",
    "                # Select values in the dropdown menus\n",
    "                month_dropdown = Select(driver.find_element(By.ID, \"_ctl0_content5_ddlmonth\"))\n",
    "                month_dropdown.select_by_visible_text(month)\n",
    "\n",
    "                year_dropdown = Select(driver.find_element(By.ID, \"_ctl0_content5_ddlyear\"))\n",
    "                year_dropdown.select_by_visible_text(year)\n",
    "\n",
    "                commodity_dropdown = Select(driver.find_element(By.ID, \"_ctl0_content5_ddlcommodity\"))\n",
    "                commodity_dropdown.select_by_visible_text(commodity)\n",
    "\n",
    "                market_dropdown = Select(driver.find_element(By.ID, \"_ctl0_content5_ddlmarket\"))\n",
    "                market_dropdown.select_by_visible_text(market)\n",
    "\n",
    "                # Click the \"View Report\" button\n",
    "                view_button = driver.find_element(By.ID, \"_ctl0_content5_viewreport\")\n",
    "                view_button.click()\n",
    "\n",
    "                # Find the table element by its ID\n",
    "                table = driver.find_element(By.ID, \"_ctl0_content5_gv\")\n",
    "\n",
    "                # Get the HTML content of the table\n",
    "                table_html = table.get_attribute(\"outerHTML\")\n",
    "\n",
    "                # Convert the HTML table to a Pandas DataFrame\n",
    "                html_buffer = StringIO(table_html)\n",
    "                df = pd.read_html(html_buffer)[0]  # Assuming it's the first (and only) table on the page\n",
    "\n",
    "                # Append the DataFrame to the list\n",
    "                data_frames.append(df)\n",
    "\n",
    "                # Go back to the main page to select the next combination\n",
    "                driver.back()\n",
    "\n",
    "# Close the browser session\n",
    "driver.quit()\n",
    "\n",
    "# Now you have a list of DataFrames, one for each combination\n",
    "# You can concatenate them into a single DataFrame if needed\n",
    "final_dataframe = pd.concat(data_frames, ignore_index=True)"
   ]
  },
  {
   "cell_type": "markdown",
   "id": "97e4666d",
   "metadata": {},
   "source": [
    "## basic pre-processing for the scraped data"
   ]
  },
  {
   "cell_type": "code",
   "execution_count": null,
   "id": "aefec8d7",
   "metadata": {
    "scrolled": false
   },
   "outputs": [],
   "source": [
    "# Filter out rows containing 'Total' in any column\n",
    "df = final_dataframe[~final_dataframe.apply(lambda row: row.astype(str).str.contains('Total').any(), axis=1)].copy()\n",
    "\n",
    "# Fill missing values in 'Market' column with the last non-null value\n",
    "df.loc[:, 'Market'] = df['Market'].ffill()\n",
    "\n",
    "# Convert the 'Date' column to a datetime object with day-first format\n",
    "df.loc[:, 'Date'] = pd.to_datetime(df['Date'], dayfirst=True)\n",
    "\n",
    "# Set the 'Date' column as the index\n",
    "df.set_index('Date', inplace=True)"
   ]
  }
 ],
 "metadata": {
  "kernelspec": {
   "display_name": "Python 3 (ipykernel)",
   "language": "python",
   "name": "python3"
  },
  "language_info": {
   "codemirror_mode": {
    "name": "ipython",
    "version": 3
   },
   "file_extension": ".py",
   "mimetype": "text/x-python",
   "name": "python",
   "nbconvert_exporter": "python",
   "pygments_lexer": "ipython3",
   "version": "3.11.5"
  }
 },
 "nbformat": 4,
 "nbformat_minor": 5
}
